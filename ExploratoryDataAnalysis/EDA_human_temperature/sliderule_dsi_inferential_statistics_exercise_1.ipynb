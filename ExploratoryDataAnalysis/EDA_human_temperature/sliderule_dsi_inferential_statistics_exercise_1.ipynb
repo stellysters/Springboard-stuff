{
 "cells": [
  {
   "cell_type": "markdown",
   "metadata": {},
   "source": [
    "# What is the True Normal Human Body Temperature? \n",
    "\n",
    "#### Background\n",
    "\n",
    "The mean normal body temperature was held to be 37$^{\\circ}$C or 98.6$^{\\circ}$F for more than 120 years since it was first conceptualized and reported by Carl Wunderlich in a famous 1868 book. But, is this value statistically correct?"
   ]
  },
  {
   "cell_type": "markdown",
   "metadata": {},
   "source": [
    "<h3>Exercises</h3>\n",
    "\n",
    "<p>In this exercise, you will analyze a dataset of human body temperatures and employ the concepts of hypothesis testing, confidence intervals, and statistical significance.</p>\n",
    "\n",
    "<p>Answer the following questions <b>in this notebook below and submit to your Github account</b>.</p> \n",
    "\n",
    "<ol>\n",
    "<li>  Is the distribution of body temperatures normal? \n",
    "    <ul>\n",
    "    <li> Although this is not a requirement for the Central Limit Theorem to hold (read the introduction on Wikipedia's page about the CLT carefully: https://en.wikipedia.org/wiki/Central_limit_theorem), it gives us some peace of mind that the population may also be normally distributed if we assume that this sample is representative of the population.\n",
    "    <li> Think about the way you're going to check for the normality of the distribution. Graphical methods are usually used first, but there are also other ways: https://en.wikipedia.org/wiki/Normality_test\n",
    "    </ul>\n",
    "<li>  Is the sample size large? Are the observations independent?\n",
    "    <ul>\n",
    "    <li> Remember that this is a condition for the Central Limit Theorem, and hence the statistical tests we are using, to apply.\n",
    "    </ul>\n",
    "<li>  Is the true population mean really 98.6 degrees F?\n",
    "    <ul>\n",
    "    <li> First, try a bootstrap hypothesis test.\n",
    "    <li> Now, let's try frequentist statistical testing. Would you use a one-sample or two-sample test? Why?\n",
    "    <li> In this situation, is it appropriate to use the $t$ or $z$ statistic? \n",
    "    <li> Now try using the other test. How is the result be different? Why?\n",
    "    </ul>\n",
    "<li>  Draw a small sample of size 10 from the data and repeat both frequentist tests. \n",
    "    <ul>\n",
    "    <li> Which one is the correct one to use? \n",
    "    <li> What do you notice? What does this tell you about the difference in application of the $t$ and $z$ statistic?\n",
    "    </ul>\n",
    "<li>  At what temperature should we consider someone's temperature to be \"abnormal\"?\n",
    "    <ul>\n",
    "    <li> As in the previous example, try calculating everything using the boostrap approach, as well as the frequentist approach.\n",
    "    <li> Start by computing the margin of error and confidence interval. When calculating the confidence interval, keep in mind that you should use the appropriate formula for one draw, and not N draws.\n",
    "    </ul>\n",
    "<li>  Is there a significant difference between males and females in normal temperature?\n",
    "    <ul>\n",
    "    <li> What testing approach did you use and why?\n",
    "    <li> Write a story with your conclusion in the context of the original problem.\n",
    "    </ul>\n",
    "</ol>\n",
    "\n",
    "You can include written notes in notebook cells using Markdown: \n",
    "   - In the control panel at the top, choose Cell > Cell Type > Markdown\n",
    "   - Markdown syntax: http://nestacms.com/docs/creating-content/markdown-cheat-sheet\n",
    "\n",
    "#### Resources\n",
    "\n",
    "+ Information and data sources: http://www.amstat.org/publications/jse/datasets/normtemp.txt, http://www.amstat.org/publications/jse/jse_data_archive.htm\n",
    "+ Markdown syntax: http://nestacms.com/docs/creating-content/markdown-cheat-sheet\n",
    "\n",
    "****"
   ]
  },
  {
   "cell_type": "code",
   "execution_count": 1,
   "metadata": {},
   "outputs": [
    {
     "name": "stdout",
     "output_type": "stream",
     "text": [
      "   temperature gender  heart_rate\n",
      "0         99.3      F        68.0\n",
      "1         98.4      F        81.0\n",
      "2         97.8      M        73.0\n",
      "3         99.2      F        66.0\n",
      "4         98.0      F        73.0\n",
      "(130, 3)\n"
     ]
    },
    {
     "data": {
      "text/plain": [
       "False"
      ]
     },
     "execution_count": 1,
     "metadata": {},
     "output_type": "execute_result"
    }
   ],
   "source": [
    "import pandas as pd\n",
    "import numpy as np\n",
    "import matplotlib.pyplot as plt\n",
    "import seaborn as sns\n",
    "from scipy import stats\n",
    "\n",
    "#read csv data into pandas dataframe\n",
    "df = pd.read_csv('data/human_body_temperature.csv')\n",
    "\n",
    "print(df.head())\n",
    "print(df.shape)\n",
    "\n",
    "#check for any null values\n",
    "df.isnull().values.any()"
   ]
  },
  {
   "cell_type": "markdown",
   "metadata": {},
   "source": [
    "1.  In the histogram below we can see that the distribution of body temperatures is normal as it follows the bell shape of a normal distribution.  The graph below show the comparison of the theoretical CDF and ECDF which fall along the same curve and show a normal distribution. \n",
    "\n",
    "2. The sample size would be considered large as n = 130 and is n >= 30 different temperatures taken and each observation is independent from another as taking one persons temperature does not affect another person's result. "
   ]
  },
  {
   "cell_type": "code",
   "execution_count": 25,
   "metadata": {},
   "outputs": [
    {
     "data": {
      "image/png": "[encoded data removed]",
      "text/plain": [
       "<Figure size 432x288 with 1 Axes>"
      ]
     },
     "metadata": {},
     "output_type": "display_data"
    },
    {
     "data": {
      "image/png": "[encoded data removed]",
      "text/plain": [
       "<Figure size 432x288 with 1 Axes>"
      ]
     },
     "metadata": {},
     "output_type": "display_data"
    }
   ],
   "source": [
    "#put temp column into an array\n",
    "n_temp = np.array(df['temperature'])\n",
    "\n",
    "#calculate bins\n",
    "n_data = len(n_temp)\n",
    "n_bins = np.sqrt(n_data)\n",
    "n_bins = int(n_bins)\n",
    "\n",
    "#set default seaborn set\n",
    "sns.set()\n",
    "\n",
    "#plot histogram to test if temp is normally distributed\n",
    "_ = plt.hist(n_temp, n_bins, density=True)\n",
    "_ = plt.xlabel('Temperature')\n",
    "_ = plt.ylabel('Frequency')\n",
    "_ = plt.title('Temperature Distribution')\n",
    "plt.show()\n",
    "\n",
    "#ECDF function for normal distribution comparison\n",
    "def ecdf(data):\n",
    "    \"\"\"Compute ECDF for a one-dimensional array of measurements.\"\"\"\n",
    "    # Number of data points: n\n",
    "    n = len(data)\n",
    "    # x-data for the ECDF: x\n",
    "    x = np.sort(data)\n",
    "    # y-data for the ECDF: y\n",
    "    y = np.arange(1, n+1) / n\n",
    "    return x, y\n",
    "\n",
    "#calculate mean and standard deviation of sample temperature data\n",
    "mu = n_temp.mean()\n",
    "sigma = n_temp.std()\n",
    "\n",
    "# Sample out of a normal distribution with this mu and sigma: samples\n",
    "samples = np.random.normal(mu, sigma, size=10000)\n",
    "\n",
    "x_theor, y_theor = ecdf(samples)\n",
    "x, y = ecdf(n_temp)\n",
    "\n",
    "# Plot the CDFs and show the plot\n",
    "_ = plt.plot(x_theor, y_theor)\n",
    "_ = plt.plot(x, y, marker='.', linestyle='none')\n",
    "_ = plt.xlabel('Temperature')\n",
    "_ = plt.ylabel('CDF')\n",
    "_ = plt.title('CDF of Temperature')\n",
    "plt.show()\n",
    "\n"
   ]
  },
  {
   "cell_type": "markdown",
   "metadata": {},
   "source": [
    "3. Is the true population mean really 98.6 degrees F? \n",
    "\n",
    "Null Hypothesis:  The true mean is equal to 98.6 degrees\n",
    "Alternative Hypothesis : The true mean is not equal to 98.6 degrees\n",
    "\n",
    "First, we try a bootstrap hypothesis test as seen below.\n",
    "\n",
    "Assuming the hypothesis test is true we shift the sample data (n_temp) so that the mean is 98.6.  We then take 10,000 bootstrap replicates of the shifted sample data (translated_n_temp).  The test statistic is the mean of the bootstrap sample calculated to be 98.2 minus Wunderlich's value of 98.6.  Below this was calculated to be -0.35 (diff_obs). The p-value is then calculated by finding the reported fraction of bootstrap replicates that are less than the observed test statistic. We are using less than because the mean from the sample data is less than 98.6 (p).  The p-value was calculated to be 0.0 this suggests that there is a fundamental difference between the mean from the sample data and Wunderlich's value of 98.6 and enough to reject the null hypothesis. \n",
    "\n",
    "We can see from the histogram of the bootstrap hypothesis test that the mean temperature falls between 98.2 and 98.3 degrees so it is not the equal to 98.6 degrees."
   ]
  },
  {
   "cell_type": "code",
   "execution_count": 3,
   "metadata": {},
   "outputs": [
    {
     "name": "stdout",
     "output_type": "stream",
     "text": [
      "Diff observed =  -0.35076923076924515\n",
      "p-value  0.0\n",
      "mean of sample data  98.24923076923075\n"
     ]
    },
    {
     "data": {
      "image/png": "[encoded data removed]",
      "text/plain": [
       "<Figure size 432x288 with 1 Axes>"
      ]
     },
     "metadata": {},
     "output_type": "display_data"
    }
   ],
   "source": [
    "#Functions:\n",
    "#function to resample the data\n",
    "def bootstrap_replicate_1d(data, func):\n",
    "    \"\"\"Generate bootstrap replicate of 1D data.\"\"\"\n",
    "    bs_sample = np.random.choice(data, len(data))\n",
    "    return func(bs_sample) \n",
    "\n",
    "#function to create bootstrap replicates\n",
    "def draw_bs_reps(data, func, size=1):\n",
    "    \"\"\"Draw bootstrap replicates.\"\"\"\n",
    "    # Initialize array of replicates: bs_replicates\n",
    "    bs_replicates = np.empty(size)\n",
    "    # Generate replicates\n",
    "    for i in range(size):\n",
    "        bs_replicates[i] =bootstrap_replicate_1d(data,func)\n",
    "    return bs_replicates\n",
    "\n",
    "#assuming the null hypothesis is true we shift the sample data so that the mean is 98.6\n",
    "translated_n_temp = n_temp - np.mean(n_temp) + 98.6\n",
    "\n",
    "#calculate the test statistic, the observed difference between the sample mean and Wunderlich's value of 98.6\n",
    "diff_obs = mu - 98.6\n",
    "\n",
    "print(\"Diff observed = \", diff_obs)\n",
    "\n",
    "#take 10,000 bootstrap replicates of the translated temperatures\n",
    "bs_replicates = draw_bs_reps(translated_n_temp, np.mean, size=10000)\n",
    "\n",
    "# Compute and print standard deviation of bootstrap replicates\n",
    "#bs_std = np.std(bs_replicates)\n",
    "#print(\"Standard deviation of bootstrap replicates: \", bs_std)\n",
    "\n",
    "#calculate the p-value\n",
    "p = np.sum(bs_replicates <= diff_obs) / 10000\n",
    "print(\"p-value \", p)\n",
    "\n",
    "#mean value of sample data (n_temp)\n",
    "print(\"mean of sample data \", mu)\n",
    "\n",
    "#compute number of bins for histogram\n",
    "bs_data = len(bs_replicates)\n",
    "bs_bins = np.sqrt(bs_data)\n",
    "bs_bins = int(bs_bins)\n",
    "\n",
    "# Make a histogram of the results\n",
    "_ = plt.hist(bs_replicates,bins=bs_bins,density=True)\n",
    "_ = plt.xlabel('Temperature')\n",
    "_ = plt.ylabel('PDF')\n",
    "\n",
    "# Show the plot\n",
    "plt.show()"
   ]
  },
  {
   "cell_type": "markdown",
   "metadata": {},
   "source": [
    "3. continued\n",
    "Now, let's try frequentist statistical testing. \n",
    "\n",
    "Would you use a one-sample or two-sample test? Why? \n",
    "In this situation, is it appropriate to use the t or z statistic? \n",
    "Now try using the other test. How is the result be different? Why? \n",
    "\n",
    "Using frequentist statistics, I used a two tailed test since we would like to know if the means are significantly different, significantly greater than 98.6 degrees or significantly less than 98.6 degrees.\n",
    "\n",
    "The Z-test requires the population standard deviation which is unknown but we have already calculated the sample standard deviation above (sigma) so we can use a t-test since a t-test only requires sample standard deviation.  The tscore is calculated to be -5.45 (t_score) with a p-value of 0.0 (pvalue) which is the same as what we calculated for the bootstrap hypothesis test above.  This p-value is statistically significant enough to reject the null hypothesis. "
   ]
  },
  {
   "cell_type": "code",
   "execution_count": 4,
   "metadata": {},
   "outputs": [
    {
     "name": "stdout",
     "output_type": "stream",
     "text": [
      "Sample standard deviation  0.730357778905038\n",
      "t-score -5.45\n",
      "p-value 0.0\n"
     ]
    }
   ],
   "source": [
    "#print sample standard deviation\n",
    "print(\"Sample standard deviation \", sigma)\n",
    "\n",
    "#calculate t-score \n",
    "t_stat = stats.ttest_1samp(n_temp, 98.6)\n",
    "\n",
    "t_score = t_stat.statistic\n",
    "print(\"t-score {}\" .format(round(t_score, 2)))\n",
    "\n",
    "#calculate p-value\n",
    "pvalue = t_stat.pvalue\n",
    "print(\"p-value {}\" .format(round(pvalue, 2)))"
   ]
  },
  {
   "cell_type": "markdown",
   "metadata": {},
   "source": [
    "4. Draw a small sample of size 10 from the data and repeat both frequentist tests. \n",
    "\n",
    "    Which one is the correct one to use? \n",
    "    \n",
    "    As above we can only use the t-test as the standard deviation for the population is unknown but we do have the sample           standard deviation.\n",
    "    \n",
    "    What do you notice? \n",
    "    In this test the p-value is at 0.06 which is greater than 0.05 so these results are not significant enough to reject the         null hypothesis.\n",
    "    \n",
    "    What does this tell you about the difference in application of the t and z statistic? \n",
    "    Unable to calcualte z statistic. "
   ]
  },
  {
   "cell_type": "code",
   "execution_count": 5,
   "metadata": {},
   "outputs": [
    {
     "name": "stdout",
     "output_type": "stream",
     "text": [
      "t-score -0.31\n",
      "pvalue 0.76\n"
     ]
    }
   ],
   "source": [
    "#grab ten random choices from the sample temperatures\n",
    "tenSample = np.random.choice(n_temp, size=10)\n",
    "\n",
    "#calculate t-score and p value\n",
    "tenSample_stat = stats.ttest_1samp(tenSample, 98.6)\n",
    "\n",
    "#grab the t-score and p-value from t-test and print\n",
    "tenSample_t = tenSample_stat.statistic\n",
    "print(\"t-score {}\" .format(round(tenSample_t, 2)))\n",
    "\n",
    "tenSample_p = tenSample_stat.pvalue\n",
    "print(\"pvalue {:0.2}\" .format(round(tenSample_p, 2)))\n"
   ]
  },
  {
   "cell_type": "markdown",
   "metadata": {},
   "source": [
    "5. At what temperature should we consider someone's temperature to be \"abnormal\"? \n",
    "\n",
    "Using the bootstrap approach at a 95% confidence interval an abnormal temperature would be a temperature that is less than 98.12 degrees and greater than 98.38 degrees.\n",
    "\n",
    "Using the frequentist approach at a 95% confidence interval an abnormal temperature would be a temperature that is less than 96.29 and greater than 100.21 degrees."
   ]
  },
  {
   "cell_type": "code",
   "execution_count": 12,
   "metadata": {},
   "outputs": [
    {
     "name": "stdout",
     "output_type": "stream",
     "text": [
      "Bootstrap approach\n",
      "\n",
      "p-value of ten random choices  0.0\n",
      "We can be 95% confident that the mean will fall between  98.13  and  98.38\n",
      "Margin of Error  -1.96 1.96\n",
      "\n",
      "\n",
      "Frequentist approach\n",
      "\n",
      "Confidence interval  96.29 100.21\n",
      "Margin of Error  -1.96 1.96\n"
     ]
    }
   ],
   "source": [
    "print(\"Bootstrap approach\\n\")\n",
    "\n",
    "#create bootstrap replicates\n",
    "bs_replicates1 = draw_bs_reps(n_temp, np.mean, size=10000)\n",
    "\n",
    "#calculate p-value of replicates\n",
    "pten = np.sum(bs_replicates1 >= 98.6) / len(bs_replicates1)\n",
    "print(\"p-value of ten random choices \", pten)\n",
    "\n",
    "#calculate mean of replicates\n",
    "xbar = np.mean(bs_replicates1)\n",
    "\n",
    "#calculate 95% confidence interval\n",
    "conf_int = np.percentile(bs_replicates1,[2.5,97.5])\n",
    "print(\"We can be 95% confident that the mean will fall between \" , round(conf_int[0],2),\" and \", round(conf_int[1],2))\n",
    "\n",
    "#calculate standard deviation\n",
    "bs1_std = np.std(bs_replicates1)\n",
    "\n",
    "x_bar = np.mean(bs_replicates1)\n",
    "ciB = stats.norm.interval(0.95, loc=xbar, scale=1)\n",
    "\n",
    "#calculate margin of error\n",
    "c1 = ciB[0] - xbar\n",
    "c2 = ciB[1] - xbar\n",
    "\n",
    "print(\"Margin of Error \", round(c1,2), round(c2,2))\n",
    "\n",
    "#Frequentist approach\n",
    "print(\"\\n\")\n",
    "print(\"Frequentist approach\\n\")\n",
    "\n",
    "#calclate the confidence interval\n",
    "ciF_low, ciF_high = stats.norm.interval(0.95, loc=xbar, scale=1)\n",
    "print(\"Confidence interval \", round(ciF_low, 2), round(ciF_high,2))\n",
    "\n",
    "#calculate margin of error\n",
    "c3 = ciF_low - xbar\n",
    "c4 = ciF_high - xbar\n",
    "\n",
    "print(\"Margin of Error \", round(c3,2), round(c4,2))\n"
   ]
  },
  {
   "cell_type": "markdown",
   "metadata": {},
   "source": [
    "6. Is there a significant difference between males and females in normal temperature? \n",
    "   \n",
    "   Null Hypothesis : male normal temp is equal to female normal temp\n",
    "   Alternative Hypothesis: male normal temp is not equal to female normal temp\n",
    "   \n",
    "   I used a two sample bootstrap test.  We can see from the CDF that both male and femal temperatures are normally distributed  \n",
    "   and the sample sizes are large enough that it passes the requirements of the central limit theorem. Number of males was 65      and number of females was also 65.  \n",
    "   \n",
    "   The test statistic was the observed difference of the mean from the males array and the mean from the females array.            Assuming the null hypothesis is true the mean temperature of both males and females was shifted so that both of their means    are equal.  I then took replicates of each shifted array of size 10,000.  The P-value was then calculated to be 0.011. 0.011    is less than the alpha value of 0.05 so we must reject the null hypothesis.        "
   ]
  },
  {
   "cell_type": "code",
   "execution_count": 26,
   "metadata": {},
   "outputs": [
    {
     "data": {
      "image/png": "[encoded data removed]",
      "text/plain": [
       "<Figure size 432x288 with 1 Axes>"
      ]
     },
     "metadata": {},
     "output_type": "display_data"
    },
    {
     "name": "stdout",
     "output_type": "stream",
     "text": [
      "p-value = 0.0106\n"
     ]
    }
   ],
   "source": [
    "#separate male and female temps\n",
    "males = np.array(df.temperature[df.gender == 'M'])\n",
    "females = np.array(df.temperature[df.gender == 'F'])\n",
    "\n",
    "#calulate the means and standard deviation of the male sample and the female sample\n",
    "males_mean = np.mean(males)\n",
    "males_std = males.std()\n",
    "\n",
    "females_mean = np.mean(females)\n",
    "females_std = females.std()\n",
    "\n",
    "#check if each array is normally distributed\n",
    "# Sample out of a normal distribution with this mu and sigma: samples\n",
    "male_samples = np.random.normal(males_mean, males_std, size=10000)\n",
    "female_samples = np.random.normal(females_mean, females_std, size=10000)\n",
    "\n",
    "xm_theor, ym_theor = ecdf(male_samples)\n",
    "x_m, y_m = ecdf(males)\n",
    "\n",
    "xf_theor, yf_theor = ecdf(female_samples)\n",
    "x_f, y_f = ecdf(females)\n",
    "\n",
    "# Plot the CDFs and show the plot\n",
    "_ = plt.plot(xm_theor, ym_theor)\n",
    "_ = plt.plot(xf_theor, yf_theor)\n",
    "_ = plt.plot(x_m, y_m, marker='.', linestyle='none', color = 'blue')\n",
    "_ = plt.plot(x_f, y_f, marker = '.', linestyle='none', color = 'red')\n",
    "_ = plt.margins = 0.02\n",
    "_ = plt.xlabel('Temperature')\n",
    "_ = plt.ylabel('CDF')\n",
    "_ = plt.title('Males vs Females')\n",
    "plt.show()\n",
    "\n",
    "#assuming the null hypothesis is true we shift both males and females arrays so that their means are equal\n",
    "males_temp_shifted = males - np.mean(males) + mu\n",
    "females_temp_shifted = females - np.mean(females) + mu\n",
    "\n",
    "#compute 10,000 bootstrap replicates from shifted arrays\n",
    "bs_replicates_males = draw_bs_reps(males_temp_shifted, np.mean, 10000)\n",
    "bs_replicates_females = draw_bs_reps(females_temp_shifted, np.mean, 10000)\n",
    "\n",
    "# Get replicates of difference of means: bs_replicates\n",
    "bs_replicates = bs_replicates_males - bs_replicates_females\n",
    "#get observed difference of means\n",
    "empirical_diff_means = males_mean - females_mean\n",
    "\n",
    "# Compute and print p-value: p\n",
    "p = np.sum(bs_replicates <= empirical_diff_means) / len(bs_replicates)\n",
    "print('p-value =', p)\n"
   ]
  }
 ],
 "metadata": {
  "kernelspec": {
   "display_name": "Python 3",
   "language": "python",
   "name": "python3"
  },
  "language_info": {
   "codemirror_mode": {
    "name": "ipython",
    "version": 3
   },
   "file_extension": ".py",
   "mimetype": "text/x-python",
   "name": "python",
   "nbconvert_exporter": "python",
   "pygments_lexer": "ipython3",
   "version": "3.6.5"
  }
 },
 "nbformat": 4,
 "nbformat_minor": 1
}
