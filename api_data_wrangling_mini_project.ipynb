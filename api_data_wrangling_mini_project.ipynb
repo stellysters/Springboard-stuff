{
 "cells": [
  {
   "cell_type": "markdown",
   "metadata": {},
   "source": [
    "This exercise will require you to pull some data from the Qunadl API. Qaundl is currently the most widely used aggregator of financial market data."
   ]
  },
  {
   "cell_type": "markdown",
   "metadata": {},
   "source": [
    "As a first step, you will need to register a free account on the http://www.quandl.com website."
   ]
  },
  {
   "cell_type": "markdown",
   "metadata": {},
   "source": [
    "After you register, you will be provided with a unique API key, that you should store:"
   ]
  },
  {
   "cell_type": "code",
   "execution_count": 1,
   "metadata": {},
   "outputs": [],
   "source": [
    "# Store the API key as a string - according to PEP8, constants are always named in all upper case\n",
    "API_KEY = 'XXXXXXXXXXXX'"
   ]
  },
  {
   "cell_type": "markdown",
   "metadata": {},
   "source": [
    "Qaundl has a large number of data sources, but, unfortunately, most of them require a Premium subscription. Still, there are also a good number of free datasets."
   ]
  },
  {
   "cell_type": "markdown",
   "metadata": {},
   "source": [
    "For this mini project, we will focus on equities data from the Frankfurt Stock Exhange (FSE), which is available for free. We'll try and analyze the stock prices of a company called Carl Zeiss Meditec, which manufactures tools for eye examinations, as well as medical lasers for laser eye surgery: https://www.zeiss.com/meditec/int/home.html. The company is listed under the stock ticker AFX_X."
   ]
  },
  {
   "cell_type": "markdown",
   "metadata": {},
   "source": [
    "You can find the detailed Quandl API instructions here: https://docs.quandl.com/docs/time-series"
   ]
  },
  {
   "cell_type": "markdown",
   "metadata": {},
   "source": [
    "While there is a dedicated Python package for connecting to the Quandl API, we would prefer that you use the *requests* package, which can be easily downloaded using *pip* or *conda*. You can find the documentation for the package here: http://docs.python-requests.org/en/master/ "
   ]
  },
  {
   "cell_type": "markdown",
   "metadata": {},
   "source": [
    "Finally, apart from the *requests* package, you are encouraged to not use any third party Python packages, such as *pandas*, and instead focus on what's available in the Python Standard Library (the *collections* module might come in handy: https://pymotw.com/3/collections/).\n",
    "Also, since you won't have access to DataFrames, you are encouraged to us Python's native data structures - preferably dictionaries, though some questions can also be answered using lists.\n",
    "You can read more on these data structures here: https://docs.python.org/3/tutorial/datastructures.html"
   ]
  },
  {
   "cell_type": "markdown",
   "metadata": {},
   "source": [
    "Keep in mind that the JSON responses you will be getting from the API map almost one-to-one to Python's dictionaries. Unfortunately, they can be very nested, so make sure you read up on indexing dictionaries in the documentation provided above."
   ]
  },
  {
   "cell_type": "code",
   "execution_count": 143,
   "metadata": {},
   "outputs": [],
   "source": [
    "# First, import the relevant modules\n",
    "import requests \n",
    "import json"
   ]
  },
  {
   "cell_type": "code",
   "execution_count": 144,
   "metadata": {},
   "outputs": [
    {
     "name": "stdout",
     "output_type": "stream",
     "text": [
      "{'dataset_data': {'limit': None, 'transform': None, 'column_index': None, 'column_names': ['Date', 'Open', 'High', 'Low', 'Close', 'Change', 'Traded Volume', 'Turnover', 'Last Price of the Day', 'Daily Traded Units', 'Daily Turnover'], 'start_date': '2007-07-13', 'end_date': '2007-07-14', 'frequency': 'daily', 'data': [['2007-07-13', 16.2, 16.21, 15.75, 15.9, None, 98350.0, 1563907.0, None, None, None]], 'collapse': None, 'order': None}}\n"
     ]
    }
   ],
   "source": [
    "# Now, call the Quandl API and pull out a small sample of the data (only one day) to get a glimpse\n",
    "# into the JSON structure that will be returned\n",
    "\n",
    "#calling quandl api using requests\n",
    "r= requests.get('https://www.quandl.com/api/v3/datasets/FSE/AFX_X/data.json?&start_date=2007-07-13&end_date=2007-07-14&api=API_KEY')\n",
    "print(r.json())\n"
   ]
  },
  {
   "cell_type": "code",
   "execution_count": 177,
   "metadata": {},
   "outputs": [
    {
     "name": "stdout",
     "output_type": "stream",
     "text": [
      "{'dataset_data': {'limit': None, 'transform': None, 'column_index': None, 'column_names': ['Date', 'Open', 'High', 'Low', 'Close', 'Change', 'Traded Volume', 'Turnover', 'Last Price of the Day', 'Daily Traded Units', 'Daily Turnover'], 'start_date': '2007-07-13', 'end_date': '2007-07-14', 'frequency': 'daily', 'data': [['2007-07-13', 16.2, 16.21, 15.75, 15.9, None, 98350.0, 1563907.0, None, None, None]], 'collapse': None, 'order': None}}\n"
     ]
    }
   ],
   "source": [
    "# Inspect the JSON structure of the object you created, and take note of how nested it is,\n",
    "# as well as the overall structure\n",
    "print(r.json())\n"
   ]
  },
  {
   "cell_type": "markdown",
   "metadata": {},
   "source": [
    "These are your tasks for this mini project:\n",
    "\n",
    "1. Collect data from the Franfurt Stock Exchange, for the ticker AFX_X, for the whole year 2017 (keep in mind that the date format is YYYY-MM-DD).\n",
    "2. Convert the returned JSON object into a Python dictionary.\n",
    "3. Calculate what the highest and lowest opening prices were for the stock in this period.\n",
    "4. What was the largest change in any one day (based on High and Low price)?\n",
    "5. What was the largest change between any two days (based on Closing Price)?\n",
    "6. What was the average daily trading volume during this year?\n",
    "7. (Optional) What was the median trading volume during this year. (Note: you may need to implement your own function for calculating the median.)"
   ]
  },
  {
   "cell_type": "code",
   "execution_count": 178,
   "metadata": {},
   "outputs": [],
   "source": [
    "#1. Collect data from the Franfurt Stock Exchange, for the ticker AFX_X, for the whole year 2017 \n",
    "# (keep in mind that the date format is YYYY-MM-DD)\n",
    "\n",
    "year2017 = requests.get('https://www.quandl.com/api/v3/datasets/FSE/AFX_X/data.json?api=API_KEY&start_date=2017-01-01&end_date=2017-12-31&api=API_KEY')\n",
    "\n",
    "#2. Convert the returned JSON object into a Python dictionary.\n",
    "\n",
    "# grab column names from json dataset_data object\n",
    "columns = year2017.json()['dataset_data']['column_names']\n",
    "#grab data from json dataset_data object\n",
    "OneYearResponse = year2017.json()['dataset_data']['data']\n",
    "\n",
    "#list variables to convert json object to list of dicts\n",
    "templist=[]\n",
    "dictlist = []\n",
    "\n",
    "for i in OneYearResponse:\n",
    "    for x in i:\n",
    "        #add each item to temporary list\n",
    "        templist.append(x)\n",
    "    #add column names and temporary list to list of dictionaries dictlist\n",
    "    dictlist.append(dict(zip(columns, templist)))\n",
    "    #clear temporary list to use again in next iteration of loop \n",
    "    templist[:] = []\n"
   ]
  },
  {
   "cell_type": "code",
   "execution_count": 181,
   "metadata": {},
   "outputs": [
    {
     "name": "stdout",
     "output_type": "stream",
     "text": [
      "The highest opening price for 2017:  53.11  On  2017-12-14\n",
      "The lowest opening price for 2017:  34.0  On  2017-01-24\n"
     ]
    }
   ],
   "source": [
    "#3. Calculate what the highest and lowest opening prices were for the stock in this period.\n",
    "\n",
    "#Save items from the Open column in list of dictionaries dictlist\n",
    "seq = [x['Open'] for x in dictlist]\n",
    "\n",
    "#find the mim and max of opening prices excluding 'None' values\n",
    "HighestOpenIndex = seq.index(max(x for x in seq if x is not None))\n",
    "LowestOpenIndex = seq.index(min(x for x in seq if x is not None))\n",
    "\n",
    "#print min and max\n",
    "print('The highest opening price for 2017: ', dictlist[HighestOpenIndex]['Open'], ' On ', dictlist[HighestOpenIndex]['Date'])\n",
    "print('The lowest opening price for 2017: ', dictlist[LowestOpenIndex]['Open'], ' On ', dictlist[LowestOpenIndex]['Date']) "
   ]
  },
  {
   "cell_type": "code",
   "execution_count": 180,
   "metadata": {},
   "outputs": [
    {
     "name": "stdout",
     "output_type": "stream",
     "text": [
      "Largest change for 2017:  2.81  on  2017-05-11\n"
     ]
    }
   ],
   "source": [
    "#4.  What was the largest change in any one day (based on High and Low price)?\n",
    "\n",
    "#compute difference of high and low columns in list of dictionaries and save to list\n",
    "seq = [(x['High'] - x['Low']) for x in dictlist]\n",
    "\n",
    "#return index of the highest difference\n",
    "LargestChangeIndex = seq.index(max(seq))\n",
    "\n",
    "#print results using index returned above to return highest value in seq and date item with highest change in dictlist\n",
    "print('Largest change for 2017: ', round(seq[LargestChangeIndex], 2), ' on ', dictlist[LargestChangeIndex]['Date'])"
   ]
  },
  {
   "cell_type": "code",
   "execution_count": 187,
   "metadata": {},
   "outputs": [
    {
     "name": "stdout",
     "output_type": "stream",
     "text": [
      "Largest change between two days based on closing price :  2.56  between  2017-08-08  and  2017-08-09\n"
     ]
    }
   ],
   "source": [
    "#5 What was the largest change between any two days (based on Closing Price)?\n",
    "\n",
    "#store items from Close column in dictlist and put in new list\n",
    "seq = [x['Close'] for x in dictlist]\n",
    "\n",
    "#store change between closing days starting from day 1 \n",
    "changeSeq = [x - seq[i-1] for i, x in enumerate(seq)][1:]\n",
    "\n",
    "#grab index of the largest difference from above\n",
    "changeSeqIndex = changeSeq.index(max(changeSeq))\n",
    "#print results using index from above of largest change and the dates\n",
    "print('Largest change between two days based on closing price : ', round(max(changeSeq), 2), ' between ', dictlist[changeSeqIndex + 1]['Date'], ' and ', dictlist[changeSeqIndex]['Date'])\n"
   ]
  },
  {
   "cell_type": "code",
   "execution_count": 189,
   "metadata": {},
   "outputs": [
    {
     "name": "stdout",
     "output_type": "stream",
     "text": [
      "Average Trading Volume for 2017 :  89124.34\n"
     ]
    }
   ],
   "source": [
    "#6 What was the average daily trading volume during this year?\n",
    "\n",
    "#store items from Traded Volume column in dictlist in new list\n",
    "seq = [x['Traded Volume'] for x in dictlist]\n",
    "\n",
    "#calculate the average by grabbing the sum of all items and dividing by length of seq\n",
    "avgTradingVolume = sum(seq)/len(seq)\n",
    "\n",
    "#print the average Trading Volume\n",
    "print('Average Trading Volume for 2017 : ', round(avgTradingVolume, 2))"
   ]
  },
  {
   "cell_type": "code",
   "execution_count": 190,
   "metadata": {},
   "outputs": [
    {
     "name": "stdout",
     "output_type": "stream",
     "text": [
      "The Median value for Trading Volume in 2017 is :  76600.0\n"
     ]
    }
   ],
   "source": [
    "#7. (Optional) What was the median trading volume during this year. (Note: you may need to implement your own function \n",
    "#for calculating the median.)\n",
    "\n",
    "#function to find median takes a list\n",
    "def findMedian(list):\n",
    "    #sort the sequence from question 6 with items in Traded Volume of dictlist\n",
    "    sortedSeq = sorted(list)\n",
    "    #divide the length of list and store in index variable\n",
    "    index = len(seq) / 2\n",
    "    #if length of list is even add the item in the list that correspondes to above index and next index value and divide by two to get median\n",
    "    if (index % 2 == 0):\n",
    "        #convert to int \n",
    "        index = int(index)\n",
    "        med = (sortedSeq[index] + sortedSeq[index+1])/2\n",
    "        return med\n",
    "    #if length of list is odd then add .5 to round index up to get index of value in list that is median\n",
    "    else:\n",
    "        index = index + 0.5\n",
    "        #convert to int\n",
    "        index = int(index)\n",
    "        return sortedSeq[index]\n",
    "\n",
    "#call function to find median and pass in seq and print result\n",
    "median2017 = findMedian(seq)\n",
    "print('The Median value for Trading Volume in 2017 is : ', median2017)\n"
   ]
  }
 ],
 "metadata": {
  "kernelspec": {
   "display_name": "Python 3",
   "language": "python",
   "name": "python3"
  },
  "language_info": {
   "codemirror_mode": {
    "name": "ipython",
    "version": 3
   },
   "file_extension": ".py",
   "mimetype": "text/x-python",
   "name": "python",
   "nbconvert_exporter": "python",
   "pygments_lexer": "ipython3",
   "version": "3.6.5"
  }
 },
 "nbformat": 4,
 "nbformat_minor": 2
}
